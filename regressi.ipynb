{
  "nbformat": 4,
  "nbformat_minor": 0,
  "metadata": {
    "colab": {
      "name": "regressi.ipynb",
      "provenance": []
    },
    "kernelspec": {
      "name": "python3",
      "display_name": "Python 3"
    },
    "language_info": {
      "name": "python"
    }
  },
  "cells": [
    {
      "cell_type": "code",
      "execution_count": null,
      "metadata": {
        "colab": {
          "base_uri": "https://localhost:8080/"
        },
        "id": "T8DigGj0CU0T",
        "outputId": "fbf1427d-7280-4ada-e876-b081ace84e67"
      },
      "outputs": [
        {
          "output_type": "stream",
          "name": "stdout",
          "text": [
            "Mounted at /content/drive\n"
          ]
        }
      ],
      "source": [
        "from google.colab import drive\n",
        "drive.mount('/content/drive')"
      ]
    },
    {
      "cell_type": "code",
      "source": [
        "import pandas as pd\n",
        "data = pd.read_csv(\"/content/drive/MyDrive/Digit/housing.csv\")\n",
        "data"
      ],
      "metadata": {
        "colab": {
          "base_uri": "https://localhost:8080/",
          "height": 423
        },
        "id": "TY6L0S81vLum",
        "outputId": "ecf8a126-5f80-42be-af74-f437e270fda0"
      },
      "execution_count": null,
      "outputs": [
        {
          "output_type": "execute_result",
          "data": {
            "text/plain": [
              "     0.00632  18.00   2.310  0  0.5380  6.5750  65.20  4.0900   1  296.0  15.30 396.90   4.98  24.00\n",
              "0     0.02731   0.00   7.070  0  0.4690  6.4210  78...                                              \n",
              "1     0.02729   0.00   7.070  0  0.4690  7.1850  61...                                              \n",
              "2     0.03237   0.00   2.180  0  0.4580  6.9980  45...                                              \n",
              "3     0.06905   0.00   2.180  0  0.4580  7.1470  54...                                              \n",
              "4     0.02985   0.00   2.180  0  0.4580  6.4300  58...                                              \n",
              "..                                                 ...                                              \n",
              "500   0.06263   0.00  11.930  0  0.5730  6.5930  69...                                              \n",
              "501   0.04527   0.00  11.930  0  0.5730  6.1200  76...                                              \n",
              "502   0.06076   0.00  11.930  0  0.5730  6.9760  91...                                              \n",
              "503   0.10959   0.00  11.930  0  0.5730  6.7940  89...                                              \n",
              "504   0.04741   0.00  11.930  0  0.5730  6.0300  80...                                              \n",
              "\n",
              "[505 rows x 1 columns]"
            ],
            "text/html": [
              "\n",
              "  <div id=\"df-28a4aaa1-40d2-458f-93a5-61555ae41131\">\n",
              "    <div class=\"colab-df-container\">\n",
              "      <div>\n",
              "<style scoped>\n",
              "    .dataframe tbody tr th:only-of-type {\n",
              "        vertical-align: middle;\n",
              "    }\n",
              "\n",
              "    .dataframe tbody tr th {\n",
              "        vertical-align: top;\n",
              "    }\n",
              "\n",
              "    .dataframe thead th {\n",
              "        text-align: right;\n",
              "    }\n",
              "</style>\n",
              "<table border=\"1\" class=\"dataframe\">\n",
              "  <thead>\n",
              "    <tr style=\"text-align: right;\">\n",
              "      <th></th>\n",
              "      <th>0.00632  18.00   2.310  0  0.5380  6.5750  65.20  4.0900   1  296.0  15.30 396.90   4.98  24.00</th>\n",
              "    </tr>\n",
              "  </thead>\n",
              "  <tbody>\n",
              "    <tr>\n",
              "      <th>0</th>\n",
              "      <td>0.02731   0.00   7.070  0  0.4690  6.4210  78...</td>\n",
              "    </tr>\n",
              "    <tr>\n",
              "      <th>1</th>\n",
              "      <td>0.02729   0.00   7.070  0  0.4690  7.1850  61...</td>\n",
              "    </tr>\n",
              "    <tr>\n",
              "      <th>2</th>\n",
              "      <td>0.03237   0.00   2.180  0  0.4580  6.9980  45...</td>\n",
              "    </tr>\n",
              "    <tr>\n",
              "      <th>3</th>\n",
              "      <td>0.06905   0.00   2.180  0  0.4580  7.1470  54...</td>\n",
              "    </tr>\n",
              "    <tr>\n",
              "      <th>4</th>\n",
              "      <td>0.02985   0.00   2.180  0  0.4580  6.4300  58...</td>\n",
              "    </tr>\n",
              "    <tr>\n",
              "      <th>...</th>\n",
              "      <td>...</td>\n",
              "    </tr>\n",
              "    <tr>\n",
              "      <th>500</th>\n",
              "      <td>0.06263   0.00  11.930  0  0.5730  6.5930  69...</td>\n",
              "    </tr>\n",
              "    <tr>\n",
              "      <th>501</th>\n",
              "      <td>0.04527   0.00  11.930  0  0.5730  6.1200  76...</td>\n",
              "    </tr>\n",
              "    <tr>\n",
              "      <th>502</th>\n",
              "      <td>0.06076   0.00  11.930  0  0.5730  6.9760  91...</td>\n",
              "    </tr>\n",
              "    <tr>\n",
              "      <th>503</th>\n",
              "      <td>0.10959   0.00  11.930  0  0.5730  6.7940  89...</td>\n",
              "    </tr>\n",
              "    <tr>\n",
              "      <th>504</th>\n",
              "      <td>0.04741   0.00  11.930  0  0.5730  6.0300  80...</td>\n",
              "    </tr>\n",
              "  </tbody>\n",
              "</table>\n",
              "<p>505 rows × 1 columns</p>\n",
              "</div>\n",
              "      <button class=\"colab-df-convert\" onclick=\"convertToInteractive('df-28a4aaa1-40d2-458f-93a5-61555ae41131')\"\n",
              "              title=\"Convert this dataframe to an interactive table.\"\n",
              "              style=\"display:none;\">\n",
              "        \n",
              "  <svg xmlns=\"http://www.w3.org/2000/svg\" height=\"24px\"viewBox=\"0 0 24 24\"\n",
              "       width=\"24px\">\n",
              "    <path d=\"M0 0h24v24H0V0z\" fill=\"none\"/>\n",
              "    <path d=\"M18.56 5.44l.94 2.06.94-2.06 2.06-.94-2.06-.94-.94-2.06-.94 2.06-2.06.94zm-11 1L8.5 8.5l.94-2.06 2.06-.94-2.06-.94L8.5 2.5l-.94 2.06-2.06.94zm10 10l.94 2.06.94-2.06 2.06-.94-2.06-.94-.94-2.06-.94 2.06-2.06.94z\"/><path d=\"M17.41 7.96l-1.37-1.37c-.4-.4-.92-.59-1.43-.59-.52 0-1.04.2-1.43.59L10.3 9.45l-7.72 7.72c-.78.78-.78 2.05 0 2.83L4 21.41c.39.39.9.59 1.41.59.51 0 1.02-.2 1.41-.59l7.78-7.78 2.81-2.81c.8-.78.8-2.07 0-2.86zM5.41 20L4 18.59l7.72-7.72 1.47 1.35L5.41 20z\"/>\n",
              "  </svg>\n",
              "      </button>\n",
              "      \n",
              "  <style>\n",
              "    .colab-df-container {\n",
              "      display:flex;\n",
              "      flex-wrap:wrap;\n",
              "      gap: 12px;\n",
              "    }\n",
              "\n",
              "    .colab-df-convert {\n",
              "      background-color: #E8F0FE;\n",
              "      border: none;\n",
              "      border-radius: 50%;\n",
              "      cursor: pointer;\n",
              "      display: none;\n",
              "      fill: #1967D2;\n",
              "      height: 32px;\n",
              "      padding: 0 0 0 0;\n",
              "      width: 32px;\n",
              "    }\n",
              "\n",
              "    .colab-df-convert:hover {\n",
              "      background-color: #E2EBFA;\n",
              "      box-shadow: 0px 1px 2px rgba(60, 64, 67, 0.3), 0px 1px 3px 1px rgba(60, 64, 67, 0.15);\n",
              "      fill: #174EA6;\n",
              "    }\n",
              "\n",
              "    [theme=dark] .colab-df-convert {\n",
              "      background-color: #3B4455;\n",
              "      fill: #D2E3FC;\n",
              "    }\n",
              "\n",
              "    [theme=dark] .colab-df-convert:hover {\n",
              "      background-color: #434B5C;\n",
              "      box-shadow: 0px 1px 3px 1px rgba(0, 0, 0, 0.15);\n",
              "      filter: drop-shadow(0px 1px 2px rgba(0, 0, 0, 0.3));\n",
              "      fill: #FFFFFF;\n",
              "    }\n",
              "  </style>\n",
              "\n",
              "      <script>\n",
              "        const buttonEl =\n",
              "          document.querySelector('#df-28a4aaa1-40d2-458f-93a5-61555ae41131 button.colab-df-convert');\n",
              "        buttonEl.style.display =\n",
              "          google.colab.kernel.accessAllowed ? 'block' : 'none';\n",
              "\n",
              "        async function convertToInteractive(key) {\n",
              "          const element = document.querySelector('#df-28a4aaa1-40d2-458f-93a5-61555ae41131');\n",
              "          const dataTable =\n",
              "            await google.colab.kernel.invokeFunction('convertToInteractive',\n",
              "                                                     [key], {});\n",
              "          if (!dataTable) return;\n",
              "\n",
              "          const docLinkHtml = 'Like what you see? Visit the ' +\n",
              "            '<a target=\"_blank\" href=https://colab.research.google.com/notebooks/data_table.ipynb>data table notebook</a>'\n",
              "            + ' to learn more about interactive tables.';\n",
              "          element.innerHTML = '';\n",
              "          dataTable['output_type'] = 'display_data';\n",
              "          await google.colab.output.renderOutput(dataTable, element);\n",
              "          const docLink = document.createElement('div');\n",
              "          docLink.innerHTML = docLinkHtml;\n",
              "          element.appendChild(docLink);\n",
              "        }\n",
              "      </script>\n",
              "    </div>\n",
              "  </div>\n",
              "  "
            ]
          },
          "metadata": {},
          "execution_count": 6
        }
      ]
    },
    {
      "cell_type": "code",
      "source": [
        "import warnings\n",
        "warnings.filterwarnings('ignore')"
      ],
      "metadata": {
        "id": "PXqfU8KVCTFC"
      },
      "execution_count": null,
      "outputs": []
    },
    {
      "cell_type": "code",
      "source": [
        "#Load data ke dalam dataframe\n",
        "column_names=['CRIM', 'ZN', 'INDUS', 'CHAS', 'NOX', 'RM', 'AGE', 'DIS', 'RAD', 'TAX', 'PTRATIO', 'B', 'LSTAT', 'MEDV']\n",
        "df = pd.read_csv('/content/drive/MyDrive/Digit/housing.csv',names=column_names, header=None, delim_whitespace=True)\n",
        "df.head()"
      ],
      "metadata": {
        "colab": {
          "base_uri": "https://localhost:8080/",
          "height": 206
        },
        "id": "oSnue55xCeUg",
        "outputId": "0627e2e1-ba6c-4951-96a4-933cab92e8a2"
      },
      "execution_count": null,
      "outputs": [
        {
          "output_type": "execute_result",
          "data": {
            "text/plain": [
              "      CRIM    ZN  INDUS  CHAS    NOX     RM   AGE     DIS  RAD    TAX  \\\n",
              "0  0.00632  18.0   2.31     0  0.538  6.575  65.2  4.0900    1  296.0   \n",
              "1  0.02731   0.0   7.07     0  0.469  6.421  78.9  4.9671    2  242.0   \n",
              "2  0.02729   0.0   7.07     0  0.469  7.185  61.1  4.9671    2  242.0   \n",
              "3  0.03237   0.0   2.18     0  0.458  6.998  45.8  6.0622    3  222.0   \n",
              "4  0.06905   0.0   2.18     0  0.458  7.147  54.2  6.0622    3  222.0   \n",
              "\n",
              "   PTRATIO       B  LSTAT  MEDV  \n",
              "0     15.3  396.90   4.98  24.0  \n",
              "1     17.8  396.90   9.14  21.6  \n",
              "2     17.8  392.83   4.03  34.7  \n",
              "3     18.7  394.63   2.94  33.4  \n",
              "4     18.7  396.90   5.33  36.2  "
            ],
            "text/html": [
              "\n",
              "  <div id=\"df-f5541b26-7fca-4e21-abad-f4a5f5aced0d\">\n",
              "    <div class=\"colab-df-container\">\n",
              "      <div>\n",
              "<style scoped>\n",
              "    .dataframe tbody tr th:only-of-type {\n",
              "        vertical-align: middle;\n",
              "    }\n",
              "\n",
              "    .dataframe tbody tr th {\n",
              "        vertical-align: top;\n",
              "    }\n",
              "\n",
              "    .dataframe thead th {\n",
              "        text-align: right;\n",
              "    }\n",
              "</style>\n",
              "<table border=\"1\" class=\"dataframe\">\n",
              "  <thead>\n",
              "    <tr style=\"text-align: right;\">\n",
              "      <th></th>\n",
              "      <th>CRIM</th>\n",
              "      <th>ZN</th>\n",
              "      <th>INDUS</th>\n",
              "      <th>CHAS</th>\n",
              "      <th>NOX</th>\n",
              "      <th>RM</th>\n",
              "      <th>AGE</th>\n",
              "      <th>DIS</th>\n",
              "      <th>RAD</th>\n",
              "      <th>TAX</th>\n",
              "      <th>PTRATIO</th>\n",
              "      <th>B</th>\n",
              "      <th>LSTAT</th>\n",
              "      <th>MEDV</th>\n",
              "    </tr>\n",
              "  </thead>\n",
              "  <tbody>\n",
              "    <tr>\n",
              "      <th>0</th>\n",
              "      <td>0.00632</td>\n",
              "      <td>18.0</td>\n",
              "      <td>2.31</td>\n",
              "      <td>0</td>\n",
              "      <td>0.538</td>\n",
              "      <td>6.575</td>\n",
              "      <td>65.2</td>\n",
              "      <td>4.0900</td>\n",
              "      <td>1</td>\n",
              "      <td>296.0</td>\n",
              "      <td>15.3</td>\n",
              "      <td>396.90</td>\n",
              "      <td>4.98</td>\n",
              "      <td>24.0</td>\n",
              "    </tr>\n",
              "    <tr>\n",
              "      <th>1</th>\n",
              "      <td>0.02731</td>\n",
              "      <td>0.0</td>\n",
              "      <td>7.07</td>\n",
              "      <td>0</td>\n",
              "      <td>0.469</td>\n",
              "      <td>6.421</td>\n",
              "      <td>78.9</td>\n",
              "      <td>4.9671</td>\n",
              "      <td>2</td>\n",
              "      <td>242.0</td>\n",
              "      <td>17.8</td>\n",
              "      <td>396.90</td>\n",
              "      <td>9.14</td>\n",
              "      <td>21.6</td>\n",
              "    </tr>\n",
              "    <tr>\n",
              "      <th>2</th>\n",
              "      <td>0.02729</td>\n",
              "      <td>0.0</td>\n",
              "      <td>7.07</td>\n",
              "      <td>0</td>\n",
              "      <td>0.469</td>\n",
              "      <td>7.185</td>\n",
              "      <td>61.1</td>\n",
              "      <td>4.9671</td>\n",
              "      <td>2</td>\n",
              "      <td>242.0</td>\n",
              "      <td>17.8</td>\n",
              "      <td>392.83</td>\n",
              "      <td>4.03</td>\n",
              "      <td>34.7</td>\n",
              "    </tr>\n",
              "    <tr>\n",
              "      <th>3</th>\n",
              "      <td>0.03237</td>\n",
              "      <td>0.0</td>\n",
              "      <td>2.18</td>\n",
              "      <td>0</td>\n",
              "      <td>0.458</td>\n",
              "      <td>6.998</td>\n",
              "      <td>45.8</td>\n",
              "      <td>6.0622</td>\n",
              "      <td>3</td>\n",
              "      <td>222.0</td>\n",
              "      <td>18.7</td>\n",
              "      <td>394.63</td>\n",
              "      <td>2.94</td>\n",
              "      <td>33.4</td>\n",
              "    </tr>\n",
              "    <tr>\n",
              "      <th>4</th>\n",
              "      <td>0.06905</td>\n",
              "      <td>0.0</td>\n",
              "      <td>2.18</td>\n",
              "      <td>0</td>\n",
              "      <td>0.458</td>\n",
              "      <td>7.147</td>\n",
              "      <td>54.2</td>\n",
              "      <td>6.0622</td>\n",
              "      <td>3</td>\n",
              "      <td>222.0</td>\n",
              "      <td>18.7</td>\n",
              "      <td>396.90</td>\n",
              "      <td>5.33</td>\n",
              "      <td>36.2</td>\n",
              "    </tr>\n",
              "  </tbody>\n",
              "</table>\n",
              "</div>\n",
              "      <button class=\"colab-df-convert\" onclick=\"convertToInteractive('df-f5541b26-7fca-4e21-abad-f4a5f5aced0d')\"\n",
              "              title=\"Convert this dataframe to an interactive table.\"\n",
              "              style=\"display:none;\">\n",
              "        \n",
              "  <svg xmlns=\"http://www.w3.org/2000/svg\" height=\"24px\"viewBox=\"0 0 24 24\"\n",
              "       width=\"24px\">\n",
              "    <path d=\"M0 0h24v24H0V0z\" fill=\"none\"/>\n",
              "    <path d=\"M18.56 5.44l.94 2.06.94-2.06 2.06-.94-2.06-.94-.94-2.06-.94 2.06-2.06.94zm-11 1L8.5 8.5l.94-2.06 2.06-.94-2.06-.94L8.5 2.5l-.94 2.06-2.06.94zm10 10l.94 2.06.94-2.06 2.06-.94-2.06-.94-.94-2.06-.94 2.06-2.06.94z\"/><path d=\"M17.41 7.96l-1.37-1.37c-.4-.4-.92-.59-1.43-.59-.52 0-1.04.2-1.43.59L10.3 9.45l-7.72 7.72c-.78.78-.78 2.05 0 2.83L4 21.41c.39.39.9.59 1.41.59.51 0 1.02-.2 1.41-.59l7.78-7.78 2.81-2.81c.8-.78.8-2.07 0-2.86zM5.41 20L4 18.59l7.72-7.72 1.47 1.35L5.41 20z\"/>\n",
              "  </svg>\n",
              "      </button>\n",
              "      \n",
              "  <style>\n",
              "    .colab-df-container {\n",
              "      display:flex;\n",
              "      flex-wrap:wrap;\n",
              "      gap: 12px;\n",
              "    }\n",
              "\n",
              "    .colab-df-convert {\n",
              "      background-color: #E8F0FE;\n",
              "      border: none;\n",
              "      border-radius: 50%;\n",
              "      cursor: pointer;\n",
              "      display: none;\n",
              "      fill: #1967D2;\n",
              "      height: 32px;\n",
              "      padding: 0 0 0 0;\n",
              "      width: 32px;\n",
              "    }\n",
              "\n",
              "    .colab-df-convert:hover {\n",
              "      background-color: #E2EBFA;\n",
              "      box-shadow: 0px 1px 2px rgba(60, 64, 67, 0.3), 0px 1px 3px 1px rgba(60, 64, 67, 0.15);\n",
              "      fill: #174EA6;\n",
              "    }\n",
              "\n",
              "    [theme=dark] .colab-df-convert {\n",
              "      background-color: #3B4455;\n",
              "      fill: #D2E3FC;\n",
              "    }\n",
              "\n",
              "    [theme=dark] .colab-df-convert:hover {\n",
              "      background-color: #434B5C;\n",
              "      box-shadow: 0px 1px 3px 1px rgba(0, 0, 0, 0.15);\n",
              "      filter: drop-shadow(0px 1px 2px rgba(0, 0, 0, 0.3));\n",
              "      fill: #FFFFFF;\n",
              "    }\n",
              "  </style>\n",
              "\n",
              "      <script>\n",
              "        const buttonEl =\n",
              "          document.querySelector('#df-f5541b26-7fca-4e21-abad-f4a5f5aced0d button.colab-df-convert');\n",
              "        buttonEl.style.display =\n",
              "          google.colab.kernel.accessAllowed ? 'block' : 'none';\n",
              "\n",
              "        async function convertToInteractive(key) {\n",
              "          const element = document.querySelector('#df-f5541b26-7fca-4e21-abad-f4a5f5aced0d');\n",
              "          const dataTable =\n",
              "            await google.colab.kernel.invokeFunction('convertToInteractive',\n",
              "                                                     [key], {});\n",
              "          if (!dataTable) return;\n",
              "\n",
              "          const docLinkHtml = 'Like what you see? Visit the ' +\n",
              "            '<a target=\"_blank\" href=https://colab.research.google.com/notebooks/data_table.ipynb>data table notebook</a>'\n",
              "            + ' to learn more about interactive tables.';\n",
              "          element.innerHTML = '';\n",
              "          dataTable['output_type'] = 'display_data';\n",
              "          await google.colab.output.renderOutput(dataTable, element);\n",
              "          const docLink = document.createElement('div');\n",
              "          docLink.innerHTML = docLinkHtml;\n",
              "          element.appendChild(docLink);\n",
              "        }\n",
              "      </script>\n",
              "    </div>\n",
              "  </div>\n",
              "  "
            ]
          },
          "metadata": {},
          "execution_count": 9
        }
      ]
    },
    {
      "cell_type": "code",
      "source": [
        "df.info()"
      ],
      "metadata": {
        "colab": {
          "base_uri": "https://localhost:8080/"
        },
        "id": "b-4SRcHjC3ER",
        "outputId": "0645db20-4451-43f0-a3e5-38e4a0fb65c7"
      },
      "execution_count": null,
      "outputs": [
        {
          "output_type": "stream",
          "name": "stdout",
          "text": [
            "<class 'pandas.core.frame.DataFrame'>\n",
            "RangeIndex: 506 entries, 0 to 505\n",
            "Data columns (total 14 columns):\n",
            " #   Column   Non-Null Count  Dtype  \n",
            "---  ------   --------------  -----  \n",
            " 0   CRIM     506 non-null    float64\n",
            " 1   ZN       506 non-null    float64\n",
            " 2   INDUS    506 non-null    float64\n",
            " 3   CHAS     506 non-null    int64  \n",
            " 4   NOX      506 non-null    float64\n",
            " 5   RM       506 non-null    float64\n",
            " 6   AGE      506 non-null    float64\n",
            " 7   DIS      506 non-null    float64\n",
            " 8   RAD      506 non-null    int64  \n",
            " 9   TAX      506 non-null    float64\n",
            " 10  PTRATIO  506 non-null    float64\n",
            " 11  B        506 non-null    float64\n",
            " 12  LSTAT    506 non-null    float64\n",
            " 13  MEDV     506 non-null    float64\n",
            "dtypes: float64(12), int64(2)\n",
            "memory usage: 55.5 KB\n"
          ]
        }
      ]
    },
    {
      "cell_type": "code",
      "source": [
        "X = df.drop('MEDV',axis=1)\n",
        "y = df['MEDV']\n",
        "X.shape, y.shape"
      ],
      "metadata": {
        "colab": {
          "base_uri": "https://localhost:8080/"
        },
        "id": "_Qg_FxluDltn",
        "outputId": "23a51b2d-21b8-4430-9533-0cbf052ee222"
      },
      "execution_count": null,
      "outputs": [
        {
          "output_type": "execute_result",
          "data": {
            "text/plain": [
              "((506, 13), (506,))"
            ]
          },
          "metadata": {},
          "execution_count": 14
        }
      ]
    },
    {
      "cell_type": "code",
      "source": [
        "df = pd.get_dummies(df, columns=['CHAS'],drop_first=True)"
      ],
      "metadata": {
        "id": "bykQFAUrC7NS"
      },
      "execution_count": null,
      "outputs": []
    },
    {
      "cell_type": "code",
      "source": [
        "df.head()"
      ],
      "metadata": {
        "colab": {
          "base_uri": "https://localhost:8080/",
          "height": 206
        },
        "id": "XwZ5FF19DUoI",
        "outputId": "2f9db476-f280-43f2-8e4c-fce9104a061a"
      },
      "execution_count": null,
      "outputs": [
        {
          "output_type": "execute_result",
          "data": {
            "text/plain": [
              "      CRIM    ZN  INDUS    NOX     RM   AGE     DIS  RAD    TAX  PTRATIO  \\\n",
              "0  0.00632  18.0   2.31  0.538  6.575  65.2  4.0900    1  296.0     15.3   \n",
              "1  0.02731   0.0   7.07  0.469  6.421  78.9  4.9671    2  242.0     17.8   \n",
              "2  0.02729   0.0   7.07  0.469  7.185  61.1  4.9671    2  242.0     17.8   \n",
              "3  0.03237   0.0   2.18  0.458  6.998  45.8  6.0622    3  222.0     18.7   \n",
              "4  0.06905   0.0   2.18  0.458  7.147  54.2  6.0622    3  222.0     18.7   \n",
              "\n",
              "        B  LSTAT  MEDV  CHAS_1  \n",
              "0  396.90   4.98  24.0       0  \n",
              "1  396.90   9.14  21.6       0  \n",
              "2  392.83   4.03  34.7       0  \n",
              "3  394.63   2.94  33.4       0  \n",
              "4  396.90   5.33  36.2       0  "
            ],
            "text/html": [
              "\n",
              "  <div id=\"df-273633d3-b5f8-497b-9cc9-c906ae7dd6bc\">\n",
              "    <div class=\"colab-df-container\">\n",
              "      <div>\n",
              "<style scoped>\n",
              "    .dataframe tbody tr th:only-of-type {\n",
              "        vertical-align: middle;\n",
              "    }\n",
              "\n",
              "    .dataframe tbody tr th {\n",
              "        vertical-align: top;\n",
              "    }\n",
              "\n",
              "    .dataframe thead th {\n",
              "        text-align: right;\n",
              "    }\n",
              "</style>\n",
              "<table border=\"1\" class=\"dataframe\">\n",
              "  <thead>\n",
              "    <tr style=\"text-align: right;\">\n",
              "      <th></th>\n",
              "      <th>CRIM</th>\n",
              "      <th>ZN</th>\n",
              "      <th>INDUS</th>\n",
              "      <th>NOX</th>\n",
              "      <th>RM</th>\n",
              "      <th>AGE</th>\n",
              "      <th>DIS</th>\n",
              "      <th>RAD</th>\n",
              "      <th>TAX</th>\n",
              "      <th>PTRATIO</th>\n",
              "      <th>B</th>\n",
              "      <th>LSTAT</th>\n",
              "      <th>MEDV</th>\n",
              "      <th>CHAS_1</th>\n",
              "    </tr>\n",
              "  </thead>\n",
              "  <tbody>\n",
              "    <tr>\n",
              "      <th>0</th>\n",
              "      <td>0.00632</td>\n",
              "      <td>18.0</td>\n",
              "      <td>2.31</td>\n",
              "      <td>0.538</td>\n",
              "      <td>6.575</td>\n",
              "      <td>65.2</td>\n",
              "      <td>4.0900</td>\n",
              "      <td>1</td>\n",
              "      <td>296.0</td>\n",
              "      <td>15.3</td>\n",
              "      <td>396.90</td>\n",
              "      <td>4.98</td>\n",
              "      <td>24.0</td>\n",
              "      <td>0</td>\n",
              "    </tr>\n",
              "    <tr>\n",
              "      <th>1</th>\n",
              "      <td>0.02731</td>\n",
              "      <td>0.0</td>\n",
              "      <td>7.07</td>\n",
              "      <td>0.469</td>\n",
              "      <td>6.421</td>\n",
              "      <td>78.9</td>\n",
              "      <td>4.9671</td>\n",
              "      <td>2</td>\n",
              "      <td>242.0</td>\n",
              "      <td>17.8</td>\n",
              "      <td>396.90</td>\n",
              "      <td>9.14</td>\n",
              "      <td>21.6</td>\n",
              "      <td>0</td>\n",
              "    </tr>\n",
              "    <tr>\n",
              "      <th>2</th>\n",
              "      <td>0.02729</td>\n",
              "      <td>0.0</td>\n",
              "      <td>7.07</td>\n",
              "      <td>0.469</td>\n",
              "      <td>7.185</td>\n",
              "      <td>61.1</td>\n",
              "      <td>4.9671</td>\n",
              "      <td>2</td>\n",
              "      <td>242.0</td>\n",
              "      <td>17.8</td>\n",
              "      <td>392.83</td>\n",
              "      <td>4.03</td>\n",
              "      <td>34.7</td>\n",
              "      <td>0</td>\n",
              "    </tr>\n",
              "    <tr>\n",
              "      <th>3</th>\n",
              "      <td>0.03237</td>\n",
              "      <td>0.0</td>\n",
              "      <td>2.18</td>\n",
              "      <td>0.458</td>\n",
              "      <td>6.998</td>\n",
              "      <td>45.8</td>\n",
              "      <td>6.0622</td>\n",
              "      <td>3</td>\n",
              "      <td>222.0</td>\n",
              "      <td>18.7</td>\n",
              "      <td>394.63</td>\n",
              "      <td>2.94</td>\n",
              "      <td>33.4</td>\n",
              "      <td>0</td>\n",
              "    </tr>\n",
              "    <tr>\n",
              "      <th>4</th>\n",
              "      <td>0.06905</td>\n",
              "      <td>0.0</td>\n",
              "      <td>2.18</td>\n",
              "      <td>0.458</td>\n",
              "      <td>7.147</td>\n",
              "      <td>54.2</td>\n",
              "      <td>6.0622</td>\n",
              "      <td>3</td>\n",
              "      <td>222.0</td>\n",
              "      <td>18.7</td>\n",
              "      <td>396.90</td>\n",
              "      <td>5.33</td>\n",
              "      <td>36.2</td>\n",
              "      <td>0</td>\n",
              "    </tr>\n",
              "  </tbody>\n",
              "</table>\n",
              "</div>\n",
              "      <button class=\"colab-df-convert\" onclick=\"convertToInteractive('df-273633d3-b5f8-497b-9cc9-c906ae7dd6bc')\"\n",
              "              title=\"Convert this dataframe to an interactive table.\"\n",
              "              style=\"display:none;\">\n",
              "        \n",
              "  <svg xmlns=\"http://www.w3.org/2000/svg\" height=\"24px\"viewBox=\"0 0 24 24\"\n",
              "       width=\"24px\">\n",
              "    <path d=\"M0 0h24v24H0V0z\" fill=\"none\"/>\n",
              "    <path d=\"M18.56 5.44l.94 2.06.94-2.06 2.06-.94-2.06-.94-.94-2.06-.94 2.06-2.06.94zm-11 1L8.5 8.5l.94-2.06 2.06-.94-2.06-.94L8.5 2.5l-.94 2.06-2.06.94zm10 10l.94 2.06.94-2.06 2.06-.94-2.06-.94-.94-2.06-.94 2.06-2.06.94z\"/><path d=\"M17.41 7.96l-1.37-1.37c-.4-.4-.92-.59-1.43-.59-.52 0-1.04.2-1.43.59L10.3 9.45l-7.72 7.72c-.78.78-.78 2.05 0 2.83L4 21.41c.39.39.9.59 1.41.59.51 0 1.02-.2 1.41-.59l7.78-7.78 2.81-2.81c.8-.78.8-2.07 0-2.86zM5.41 20L4 18.59l7.72-7.72 1.47 1.35L5.41 20z\"/>\n",
              "  </svg>\n",
              "      </button>\n",
              "      \n",
              "  <style>\n",
              "    .colab-df-container {\n",
              "      display:flex;\n",
              "      flex-wrap:wrap;\n",
              "      gap: 12px;\n",
              "    }\n",
              "\n",
              "    .colab-df-convert {\n",
              "      background-color: #E8F0FE;\n",
              "      border: none;\n",
              "      border-radius: 50%;\n",
              "      cursor: pointer;\n",
              "      display: none;\n",
              "      fill: #1967D2;\n",
              "      height: 32px;\n",
              "      padding: 0 0 0 0;\n",
              "      width: 32px;\n",
              "    }\n",
              "\n",
              "    .colab-df-convert:hover {\n",
              "      background-color: #E2EBFA;\n",
              "      box-shadow: 0px 1px 2px rgba(60, 64, 67, 0.3), 0px 1px 3px 1px rgba(60, 64, 67, 0.15);\n",
              "      fill: #174EA6;\n",
              "    }\n",
              "\n",
              "    [theme=dark] .colab-df-convert {\n",
              "      background-color: #3B4455;\n",
              "      fill: #D2E3FC;\n",
              "    }\n",
              "\n",
              "    [theme=dark] .colab-df-convert:hover {\n",
              "      background-color: #434B5C;\n",
              "      box-shadow: 0px 1px 3px 1px rgba(0, 0, 0, 0.15);\n",
              "      filter: drop-shadow(0px 1px 2px rgba(0, 0, 0, 0.3));\n",
              "      fill: #FFFFFF;\n",
              "    }\n",
              "  </style>\n",
              "\n",
              "      <script>\n",
              "        const buttonEl =\n",
              "          document.querySelector('#df-273633d3-b5f8-497b-9cc9-c906ae7dd6bc button.colab-df-convert');\n",
              "        buttonEl.style.display =\n",
              "          google.colab.kernel.accessAllowed ? 'block' : 'none';\n",
              "\n",
              "        async function convertToInteractive(key) {\n",
              "          const element = document.querySelector('#df-273633d3-b5f8-497b-9cc9-c906ae7dd6bc');\n",
              "          const dataTable =\n",
              "            await google.colab.kernel.invokeFunction('convertToInteractive',\n",
              "                                                     [key], {});\n",
              "          if (!dataTable) return;\n",
              "\n",
              "          const docLinkHtml = 'Like what you see? Visit the ' +\n",
              "            '<a target=\"_blank\" href=https://colab.research.google.com/notebooks/data_table.ipynb>data table notebook</a>'\n",
              "            + ' to learn more about interactive tables.';\n",
              "          element.innerHTML = '';\n",
              "          dataTable['output_type'] = 'display_data';\n",
              "          await google.colab.output.renderOutput(dataTable, element);\n",
              "          const docLink = document.createElement('div');\n",
              "          docLink.innerHTML = docLinkHtml;\n",
              "          element.appendChild(docLink);\n",
              "        }\n",
              "      </script>\n",
              "    </div>\n",
              "  </div>\n",
              "  "
            ]
          },
          "metadata": {},
          "execution_count": 12
        }
      ]
    },
    {
      "cell_type": "code",
      "source": [
        "#membagi data menjadi pelatihan\n",
        "from sklearn.model_selection import train_test_split\n",
        "\n",
        "X_train, X_test, y_train, y_test = train_test_split(X,y,test_size=0.2)\n",
        "\n",
        "X_train.shape, X_test.shape, y_train.shape, y_test.shape"
      ],
      "metadata": {
        "colab": {
          "base_uri": "https://localhost:8080/"
        },
        "id": "iuN4kON7DYEp",
        "outputId": "84c1be84-eda6-4f4b-daa8-09ca8a5d43ed"
      },
      "execution_count": null,
      "outputs": [
        {
          "output_type": "execute_result",
          "data": {
            "text/plain": [
              "((404, 13), (102, 13), (404,), (102,))"
            ]
          },
          "metadata": {},
          "execution_count": 15
        }
      ]
    },
    {
      "cell_type": "code",
      "source": [
        "X_train, X_valid, y_train, y_valid = train_test_split(X_train, y_train, test_size=0.1)"
      ],
      "metadata": {
        "id": "_tRgc_MjDt04"
      },
      "execution_count": null,
      "outputs": []
    },
    {
      "cell_type": "code",
      "source": [
        "#Data Preprocessing \n",
        "from sklearn.preprocessing import StandardScaler\n",
        "from sklearn.compose import make_column_transformer\n",
        "\n",
        "ct = make_column_transformer(\n",
        "    (StandardScaler(), ['CRIM', 'ZN', 'INDUS', 'NOX', 'RM', 'AGE', 'DIS', 'RAD', 'TAX', 'PTRATIO', 'B', 'LSTAT']),\n",
        "    remainder='passthrough'\n",
        "    )\n",
        "\n",
        "ct.fit(X_train)"
      ],
      "metadata": {
        "colab": {
          "base_uri": "https://localhost:8080/"
        },
        "id": "505oOcVRDxpV",
        "outputId": "32b0866f-8b90-4586-a2ed-c127a5df284d"
      },
      "execution_count": null,
      "outputs": [
        {
          "output_type": "execute_result",
          "data": {
            "text/plain": [
              "ColumnTransformer(remainder='passthrough',\n",
              "                  transformers=[('standardscaler', StandardScaler(),\n",
              "                                 ['CRIM', 'ZN', 'INDUS', 'NOX', 'RM', 'AGE',\n",
              "                                  'DIS', 'RAD', 'TAX', 'PTRATIO', 'B',\n",
              "                                  'LSTAT'])])"
            ]
          },
          "metadata": {},
          "execution_count": 17
        }
      ]
    },
    {
      "cell_type": "code",
      "source": [
        "ct.transform(X_train)\n",
        "ct.transform(X_test)\n",
        "ct.transform(X_valid);"
      ],
      "metadata": {
        "id": "Dmm2KZFkD6J3"
      },
      "execution_count": null,
      "outputs": []
    },
    {
      "cell_type": "code",
      "source": [
        "import tensorflow as tf"
      ],
      "metadata": {
        "id": "BnM92QJnD9kj"
      },
      "execution_count": null,
      "outputs": []
    },
    {
      "cell_type": "code",
      "source": [
        "#Membuat Model \n",
        "model = tf.keras.Sequential([\n",
        "    tf.keras.layers.Dense(10,activation='relu'),\n",
        "    tf.keras.layers.Dense(10,activation='relu'),\n",
        "    tf.keras.layers.Dense(1, activation='linear')\n",
        "])"
      ],
      "metadata": {
        "id": "jHI69NczEAZm"
      },
      "execution_count": null,
      "outputs": []
    },
    {
      "cell_type": "code",
      "source": [
        "model.compile(loss = tf.keras.losses.mean_absolute_error,\n",
        "               optimizer = tf.keras.optimizers.Adam(lr=0.01),\n",
        "               metrics=['mae'])"
      ],
      "metadata": {
        "id": "TPKiV6G_EGNZ"
      },
      "execution_count": null,
      "outputs": []
    },
    {
      "cell_type": "code",
      "source": [
        "history_1 = model.fit(X_train, y_train, epochs=150, validation_data=(X_valid,y_valid))"
      ],
      "metadata": {
        "colab": {
          "base_uri": "https://localhost:8080/"
        },
        "id": "hpXrXvH1EMJM",
        "outputId": "3ab2966e-2e72-4ee7-b231-a490ad4f64b5"
      },
      "execution_count": null,
      "outputs": [
        {
          "output_type": "stream",
          "name": "stdout",
          "text": [
            "Epoch 1/150\n",
            "12/12 [==============================] - 1s 15ms/step - loss: 62.8945 - mae: 62.8945 - val_loss: 25.3797 - val_mae: 25.3797\n",
            "Epoch 2/150\n",
            "12/12 [==============================] - 0s 3ms/step - loss: 23.6306 - mae: 23.6306 - val_loss: 13.1955 - val_mae: 13.1955\n",
            "Epoch 3/150\n",
            "12/12 [==============================] - 0s 4ms/step - loss: 11.3958 - mae: 11.3958 - val_loss: 11.2155 - val_mae: 11.2155\n",
            "Epoch 4/150\n",
            "12/12 [==============================] - 0s 4ms/step - loss: 8.8338 - mae: 8.8338 - val_loss: 7.6632 - val_mae: 7.6632\n",
            "Epoch 5/150\n",
            "12/12 [==============================] - 0s 4ms/step - loss: 7.1297 - mae: 7.1297 - val_loss: 6.3695 - val_mae: 6.3695\n",
            "Epoch 6/150\n",
            "12/12 [==============================] - 0s 4ms/step - loss: 6.0538 - mae: 6.0538 - val_loss: 4.9884 - val_mae: 4.9884\n",
            "Epoch 7/150\n",
            "12/12 [==============================] - 0s 4ms/step - loss: 5.2698 - mae: 5.2698 - val_loss: 4.9961 - val_mae: 4.9961\n",
            "Epoch 8/150\n",
            "12/12 [==============================] - 0s 3ms/step - loss: 5.6159 - mae: 5.6159 - val_loss: 5.0431 - val_mae: 5.0431\n",
            "Epoch 9/150\n",
            "12/12 [==============================] - 0s 6ms/step - loss: 5.2439 - mae: 5.2439 - val_loss: 6.7875 - val_mae: 6.7875\n",
            "Epoch 10/150\n",
            "12/12 [==============================] - 0s 4ms/step - loss: 5.2400 - mae: 5.2400 - val_loss: 4.0740 - val_mae: 4.0740\n",
            "Epoch 11/150\n",
            "12/12 [==============================] - 0s 4ms/step - loss: 4.5169 - mae: 4.5169 - val_loss: 4.2331 - val_mae: 4.2331\n",
            "Epoch 12/150\n",
            "12/12 [==============================] - 0s 4ms/step - loss: 4.7399 - mae: 4.7399 - val_loss: 5.1165 - val_mae: 5.1165\n",
            "Epoch 13/150\n",
            "12/12 [==============================] - 0s 4ms/step - loss: 4.5330 - mae: 4.5330 - val_loss: 4.2047 - val_mae: 4.2047\n",
            "Epoch 14/150\n",
            "12/12 [==============================] - 0s 4ms/step - loss: 4.4935 - mae: 4.4935 - val_loss: 4.3939 - val_mae: 4.3939\n",
            "Epoch 15/150\n",
            "12/12 [==============================] - 0s 4ms/step - loss: 4.9906 - mae: 4.9906 - val_loss: 4.1025 - val_mae: 4.1025\n",
            "Epoch 16/150\n",
            "12/12 [==============================] - 0s 4ms/step - loss: 4.3240 - mae: 4.3240 - val_loss: 4.1591 - val_mae: 4.1591\n",
            "Epoch 17/150\n",
            "12/12 [==============================] - 0s 4ms/step - loss: 4.5643 - mae: 4.5643 - val_loss: 4.6685 - val_mae: 4.6685\n",
            "Epoch 18/150\n",
            "12/12 [==============================] - 0s 4ms/step - loss: 4.8605 - mae: 4.8605 - val_loss: 4.0032 - val_mae: 4.0032\n",
            "Epoch 19/150\n",
            "12/12 [==============================] - 0s 4ms/step - loss: 4.6257 - mae: 4.6257 - val_loss: 4.1428 - val_mae: 4.1428\n",
            "Epoch 20/150\n",
            "12/12 [==============================] - 0s 4ms/step - loss: 4.4925 - mae: 4.4925 - val_loss: 4.1160 - val_mae: 4.1160\n",
            "Epoch 21/150\n",
            "12/12 [==============================] - 0s 4ms/step - loss: 4.4711 - mae: 4.4711 - val_loss: 3.9109 - val_mae: 3.9109\n",
            "Epoch 22/150\n",
            "12/12 [==============================] - 0s 4ms/step - loss: 4.6911 - mae: 4.6911 - val_loss: 4.0343 - val_mae: 4.0343\n",
            "Epoch 23/150\n",
            "12/12 [==============================] - 0s 4ms/step - loss: 4.2115 - mae: 4.2115 - val_loss: 3.9384 - val_mae: 3.9384\n",
            "Epoch 24/150\n",
            "12/12 [==============================] - 0s 4ms/step - loss: 4.1678 - mae: 4.1678 - val_loss: 3.9005 - val_mae: 3.9005\n",
            "Epoch 25/150\n",
            "12/12 [==============================] - 0s 4ms/step - loss: 4.2127 - mae: 4.2127 - val_loss: 3.8948 - val_mae: 3.8948\n",
            "Epoch 26/150\n",
            "12/12 [==============================] - 0s 4ms/step - loss: 4.4581 - mae: 4.4581 - val_loss: 4.0203 - val_mae: 4.0203\n",
            "Epoch 27/150\n",
            "12/12 [==============================] - 0s 4ms/step - loss: 4.2058 - mae: 4.2058 - val_loss: 4.1676 - val_mae: 4.1676\n",
            "Epoch 28/150\n",
            "12/12 [==============================] - 0s 4ms/step - loss: 4.4390 - mae: 4.4390 - val_loss: 4.1365 - val_mae: 4.1365\n",
            "Epoch 29/150\n",
            "12/12 [==============================] - 0s 4ms/step - loss: 4.5213 - mae: 4.5213 - val_loss: 3.9107 - val_mae: 3.9107\n",
            "Epoch 30/150\n",
            "12/12 [==============================] - 0s 5ms/step - loss: 4.2012 - mae: 4.2012 - val_loss: 4.8947 - val_mae: 4.8947\n",
            "Epoch 31/150\n",
            "12/12 [==============================] - 0s 4ms/step - loss: 4.2333 - mae: 4.2333 - val_loss: 3.9341 - val_mae: 3.9341\n",
            "Epoch 32/150\n",
            "12/12 [==============================] - 0s 4ms/step - loss: 4.1140 - mae: 4.1140 - val_loss: 3.8436 - val_mae: 3.8436\n",
            "Epoch 33/150\n",
            "12/12 [==============================] - 0s 4ms/step - loss: 4.1317 - mae: 4.1317 - val_loss: 4.4617 - val_mae: 4.4617\n",
            "Epoch 34/150\n",
            "12/12 [==============================] - 0s 4ms/step - loss: 4.5804 - mae: 4.5804 - val_loss: 4.1806 - val_mae: 4.1806\n",
            "Epoch 35/150\n",
            "12/12 [==============================] - 0s 4ms/step - loss: 4.1028 - mae: 4.1028 - val_loss: 3.8788 - val_mae: 3.8788\n",
            "Epoch 36/150\n",
            "12/12 [==============================] - 0s 4ms/step - loss: 4.2346 - mae: 4.2346 - val_loss: 3.8570 - val_mae: 3.8570\n",
            "Epoch 37/150\n",
            "12/12 [==============================] - 0s 4ms/step - loss: 4.1185 - mae: 4.1185 - val_loss: 3.9129 - val_mae: 3.9129\n",
            "Epoch 38/150\n",
            "12/12 [==============================] - 0s 4ms/step - loss: 4.3208 - mae: 4.3208 - val_loss: 3.6882 - val_mae: 3.6882\n",
            "Epoch 39/150\n",
            "12/12 [==============================] - 0s 4ms/step - loss: 3.9966 - mae: 3.9966 - val_loss: 4.0065 - val_mae: 4.0065\n",
            "Epoch 40/150\n",
            "12/12 [==============================] - 0s 4ms/step - loss: 4.0638 - mae: 4.0638 - val_loss: 5.4766 - val_mae: 5.4766\n",
            "Epoch 41/150\n",
            "12/12 [==============================] - 0s 4ms/step - loss: 4.4046 - mae: 4.4046 - val_loss: 4.1362 - val_mae: 4.1362\n",
            "Epoch 42/150\n",
            "12/12 [==============================] - 0s 4ms/step - loss: 4.1542 - mae: 4.1542 - val_loss: 3.7885 - val_mae: 3.7885\n",
            "Epoch 43/150\n",
            "12/12 [==============================] - 0s 4ms/step - loss: 4.0582 - mae: 4.0582 - val_loss: 5.0940 - val_mae: 5.0940\n",
            "Epoch 44/150\n",
            "12/12 [==============================] - 0s 4ms/step - loss: 4.9326 - mae: 4.9326 - val_loss: 3.5529 - val_mae: 3.5529\n",
            "Epoch 45/150\n",
            "12/12 [==============================] - 0s 4ms/step - loss: 4.3181 - mae: 4.3181 - val_loss: 4.2941 - val_mae: 4.2941\n",
            "Epoch 46/150\n",
            "12/12 [==============================] - 0s 4ms/step - loss: 4.2737 - mae: 4.2737 - val_loss: 4.2103 - val_mae: 4.2103\n",
            "Epoch 47/150\n",
            "12/12 [==============================] - 0s 3ms/step - loss: 4.0552 - mae: 4.0552 - val_loss: 3.5154 - val_mae: 3.5154\n",
            "Epoch 48/150\n",
            "12/12 [==============================] - 0s 4ms/step - loss: 4.0141 - mae: 4.0141 - val_loss: 3.9621 - val_mae: 3.9621\n",
            "Epoch 49/150\n",
            "12/12 [==============================] - 0s 5ms/step - loss: 3.8982 - mae: 3.8982 - val_loss: 3.4689 - val_mae: 3.4689\n",
            "Epoch 50/150\n",
            "12/12 [==============================] - 0s 4ms/step - loss: 3.8339 - mae: 3.8339 - val_loss: 4.5582 - val_mae: 4.5582\n",
            "Epoch 51/150\n",
            "12/12 [==============================] - 0s 4ms/step - loss: 4.0853 - mae: 4.0853 - val_loss: 3.5628 - val_mae: 3.5628\n",
            "Epoch 52/150\n",
            "12/12 [==============================] - 0s 4ms/step - loss: 3.8572 - mae: 3.8572 - val_loss: 3.4936 - val_mae: 3.4936\n",
            "Epoch 53/150\n",
            "12/12 [==============================] - 0s 4ms/step - loss: 3.7159 - mae: 3.7159 - val_loss: 3.4630 - val_mae: 3.4630\n",
            "Epoch 54/150\n",
            "12/12 [==============================] - 0s 4ms/step - loss: 3.7976 - mae: 3.7976 - val_loss: 3.4647 - val_mae: 3.4647\n",
            "Epoch 55/150\n",
            "12/12 [==============================] - 0s 4ms/step - loss: 3.7883 - mae: 3.7883 - val_loss: 3.6387 - val_mae: 3.6387\n",
            "Epoch 56/150\n",
            "12/12 [==============================] - 0s 4ms/step - loss: 3.7450 - mae: 3.7450 - val_loss: 3.4077 - val_mae: 3.4077\n",
            "Epoch 57/150\n",
            "12/12 [==============================] - 0s 4ms/step - loss: 4.1354 - mae: 4.1354 - val_loss: 3.6962 - val_mae: 3.6962\n",
            "Epoch 58/150\n",
            "12/12 [==============================] - 0s 4ms/step - loss: 4.8026 - mae: 4.8026 - val_loss: 3.7032 - val_mae: 3.7032\n",
            "Epoch 59/150\n",
            "12/12 [==============================] - 0s 4ms/step - loss: 4.4244 - mae: 4.4244 - val_loss: 3.9746 - val_mae: 3.9746\n",
            "Epoch 60/150\n",
            "12/12 [==============================] - 0s 4ms/step - loss: 3.7344 - mae: 3.7344 - val_loss: 3.5960 - val_mae: 3.5960\n",
            "Epoch 61/150\n",
            "12/12 [==============================] - 0s 4ms/step - loss: 3.8140 - mae: 3.8140 - val_loss: 3.6874 - val_mae: 3.6874\n",
            "Epoch 62/150\n",
            "12/12 [==============================] - 0s 4ms/step - loss: 4.4171 - mae: 4.4171 - val_loss: 3.5064 - val_mae: 3.5064\n",
            "Epoch 63/150\n",
            "12/12 [==============================] - 0s 4ms/step - loss: 4.4461 - mae: 4.4461 - val_loss: 3.7710 - val_mae: 3.7710\n",
            "Epoch 64/150\n",
            "12/12 [==============================] - 0s 4ms/step - loss: 3.9910 - mae: 3.9910 - val_loss: 4.3483 - val_mae: 4.3483\n",
            "Epoch 65/150\n",
            "12/12 [==============================] - 0s 4ms/step - loss: 4.4285 - mae: 4.4285 - val_loss: 3.6166 - val_mae: 3.6166\n",
            "Epoch 66/150\n",
            "12/12 [==============================] - 0s 4ms/step - loss: 3.5766 - mae: 3.5766 - val_loss: 3.4871 - val_mae: 3.4871\n",
            "Epoch 67/150\n",
            "12/12 [==============================] - 0s 4ms/step - loss: 3.5787 - mae: 3.5787 - val_loss: 3.6036 - val_mae: 3.6036\n",
            "Epoch 68/150\n",
            "12/12 [==============================] - 0s 5ms/step - loss: 3.6876 - mae: 3.6876 - val_loss: 3.3397 - val_mae: 3.3397\n",
            "Epoch 69/150\n",
            "12/12 [==============================] - 0s 4ms/step - loss: 3.6171 - mae: 3.6171 - val_loss: 4.0002 - val_mae: 4.0002\n",
            "Epoch 70/150\n",
            "12/12 [==============================] - 0s 4ms/step - loss: 3.7249 - mae: 3.7249 - val_loss: 3.2911 - val_mae: 3.2911\n",
            "Epoch 71/150\n",
            "12/12 [==============================] - 0s 4ms/step - loss: 3.6387 - mae: 3.6387 - val_loss: 3.4391 - val_mae: 3.4391\n",
            "Epoch 72/150\n",
            "12/12 [==============================] - 0s 4ms/step - loss: 3.6503 - mae: 3.6503 - val_loss: 3.4853 - val_mae: 3.4853\n",
            "Epoch 73/150\n",
            "12/12 [==============================] - 0s 4ms/step - loss: 4.2710 - mae: 4.2710 - val_loss: 5.0584 - val_mae: 5.0584\n",
            "Epoch 74/150\n",
            "12/12 [==============================] - 0s 4ms/step - loss: 4.2335 - mae: 4.2335 - val_loss: 3.3706 - val_mae: 3.3706\n",
            "Epoch 75/150\n",
            "12/12 [==============================] - 0s 6ms/step - loss: 3.7701 - mae: 3.7701 - val_loss: 4.7540 - val_mae: 4.7540\n",
            "Epoch 76/150\n",
            "12/12 [==============================] - 0s 4ms/step - loss: 4.9136 - mae: 4.9136 - val_loss: 6.4029 - val_mae: 6.4029\n",
            "Epoch 77/150\n",
            "12/12 [==============================] - 0s 4ms/step - loss: 5.1271 - mae: 5.1271 - val_loss: 3.5208 - val_mae: 3.5208\n",
            "Epoch 78/150\n",
            "12/12 [==============================] - 0s 4ms/step - loss: 4.1658 - mae: 4.1658 - val_loss: 3.8108 - val_mae: 3.8108\n",
            "Epoch 79/150\n",
            "12/12 [==============================] - 0s 4ms/step - loss: 3.8668 - mae: 3.8668 - val_loss: 3.8518 - val_mae: 3.8518\n",
            "Epoch 80/150\n",
            "12/12 [==============================] - 0s 4ms/step - loss: 4.0669 - mae: 4.0669 - val_loss: 4.6019 - val_mae: 4.6019\n",
            "Epoch 81/150\n",
            "12/12 [==============================] - 0s 4ms/step - loss: 4.1026 - mae: 4.1026 - val_loss: 3.2703 - val_mae: 3.2703\n",
            "Epoch 82/150\n",
            "12/12 [==============================] - 0s 4ms/step - loss: 3.7879 - mae: 3.7879 - val_loss: 3.2768 - val_mae: 3.2768\n",
            "Epoch 83/150\n",
            "12/12 [==============================] - 0s 4ms/step - loss: 3.6008 - mae: 3.6008 - val_loss: 3.6992 - val_mae: 3.6992\n",
            "Epoch 84/150\n",
            "12/12 [==============================] - 0s 4ms/step - loss: 3.6826 - mae: 3.6826 - val_loss: 3.6130 - val_mae: 3.6130\n",
            "Epoch 85/150\n",
            "12/12 [==============================] - 0s 4ms/step - loss: 3.6892 - mae: 3.6892 - val_loss: 3.4845 - val_mae: 3.4845\n",
            "Epoch 86/150\n",
            "12/12 [==============================] - 0s 5ms/step - loss: 3.7080 - mae: 3.7080 - val_loss: 3.4678 - val_mae: 3.4678\n",
            "Epoch 87/150\n",
            "12/12 [==============================] - 0s 4ms/step - loss: 3.7298 - mae: 3.7298 - val_loss: 3.3926 - val_mae: 3.3926\n",
            "Epoch 88/150\n",
            "12/12 [==============================] - 0s 5ms/step - loss: 3.7809 - mae: 3.7809 - val_loss: 4.3406 - val_mae: 4.3406\n",
            "Epoch 89/150\n",
            "12/12 [==============================] - 0s 4ms/step - loss: 3.7603 - mae: 3.7603 - val_loss: 3.6796 - val_mae: 3.6796\n",
            "Epoch 90/150\n",
            "12/12 [==============================] - 0s 4ms/step - loss: 3.5965 - mae: 3.5965 - val_loss: 3.4104 - val_mae: 3.4104\n",
            "Epoch 91/150\n",
            "12/12 [==============================] - 0s 5ms/step - loss: 3.6569 - mae: 3.6569 - val_loss: 4.1821 - val_mae: 4.1821\n",
            "Epoch 92/150\n",
            "12/12 [==============================] - 0s 4ms/step - loss: 3.6529 - mae: 3.6529 - val_loss: 3.1682 - val_mae: 3.1682\n",
            "Epoch 93/150\n",
            "12/12 [==============================] - 0s 4ms/step - loss: 3.3868 - mae: 3.3868 - val_loss: 3.7207 - val_mae: 3.7207\n",
            "Epoch 94/150\n",
            "12/12 [==============================] - 0s 6ms/step - loss: 3.6276 - mae: 3.6276 - val_loss: 4.9076 - val_mae: 4.9076\n",
            "Epoch 95/150\n",
            "12/12 [==============================] - 0s 4ms/step - loss: 4.0532 - mae: 4.0532 - val_loss: 3.7202 - val_mae: 3.7202\n",
            "Epoch 96/150\n",
            "12/12 [==============================] - 0s 4ms/step - loss: 3.7389 - mae: 3.7389 - val_loss: 3.1608 - val_mae: 3.1608\n",
            "Epoch 97/150\n",
            "12/12 [==============================] - 0s 4ms/step - loss: 3.6592 - mae: 3.6592 - val_loss: 3.3247 - val_mae: 3.3247\n",
            "Epoch 98/150\n",
            "12/12 [==============================] - 0s 4ms/step - loss: 3.4746 - mae: 3.4746 - val_loss: 3.1757 - val_mae: 3.1757\n",
            "Epoch 99/150\n",
            "12/12 [==============================] - 0s 4ms/step - loss: 3.4773 - mae: 3.4773 - val_loss: 3.3897 - val_mae: 3.3897\n",
            "Epoch 100/150\n",
            "12/12 [==============================] - 0s 5ms/step - loss: 3.3354 - mae: 3.3354 - val_loss: 3.6666 - val_mae: 3.6666\n",
            "Epoch 101/150\n",
            "12/12 [==============================] - 0s 5ms/step - loss: 3.4002 - mae: 3.4002 - val_loss: 3.3542 - val_mae: 3.3542\n",
            "Epoch 102/150\n",
            "12/12 [==============================] - 0s 4ms/step - loss: 3.8980 - mae: 3.8980 - val_loss: 4.0426 - val_mae: 4.0426\n",
            "Epoch 103/150\n",
            "12/12 [==============================] - 0s 4ms/step - loss: 3.5191 - mae: 3.5191 - val_loss: 3.2857 - val_mae: 3.2857\n",
            "Epoch 104/150\n",
            "12/12 [==============================] - 0s 5ms/step - loss: 3.4746 - mae: 3.4746 - val_loss: 4.0616 - val_mae: 4.0616\n",
            "Epoch 105/150\n",
            "12/12 [==============================] - 0s 4ms/step - loss: 3.6054 - mae: 3.6054 - val_loss: 3.9618 - val_mae: 3.9618\n",
            "Epoch 106/150\n",
            "12/12 [==============================] - 0s 4ms/step - loss: 3.6747 - mae: 3.6747 - val_loss: 4.6485 - val_mae: 4.6485\n",
            "Epoch 107/150\n",
            "12/12 [==============================] - 0s 4ms/step - loss: 3.6559 - mae: 3.6559 - val_loss: 3.9804 - val_mae: 3.9804\n",
            "Epoch 108/150\n",
            "12/12 [==============================] - 0s 6ms/step - loss: 3.5636 - mae: 3.5636 - val_loss: 3.5020 - val_mae: 3.5020\n",
            "Epoch 109/150\n",
            "12/12 [==============================] - 0s 6ms/step - loss: 3.5142 - mae: 3.5142 - val_loss: 3.1281 - val_mae: 3.1281\n",
            "Epoch 110/150\n",
            "12/12 [==============================] - 0s 6ms/step - loss: 3.2585 - mae: 3.2585 - val_loss: 3.5764 - val_mae: 3.5764\n",
            "Epoch 111/150\n",
            "12/12 [==============================] - 0s 6ms/step - loss: 3.6996 - mae: 3.6996 - val_loss: 4.0567 - val_mae: 4.0567\n",
            "Epoch 112/150\n",
            "12/12 [==============================] - 0s 4ms/step - loss: 3.5004 - mae: 3.5004 - val_loss: 3.1601 - val_mae: 3.1601\n",
            "Epoch 113/150\n",
            "12/12 [==============================] - 0s 4ms/step - loss: 3.2969 - mae: 3.2969 - val_loss: 3.1998 - val_mae: 3.1998\n",
            "Epoch 114/150\n",
            "12/12 [==============================] - 0s 4ms/step - loss: 3.6804 - mae: 3.6804 - val_loss: 3.1316 - val_mae: 3.1316\n",
            "Epoch 115/150\n",
            "12/12 [==============================] - 0s 4ms/step - loss: 3.4724 - mae: 3.4724 - val_loss: 3.4225 - val_mae: 3.4225\n",
            "Epoch 116/150\n",
            "12/12 [==============================] - 0s 8ms/step - loss: 3.9674 - mae: 3.9674 - val_loss: 3.4705 - val_mae: 3.4705\n",
            "Epoch 117/150\n",
            "12/12 [==============================] - 0s 6ms/step - loss: 3.5184 - mae: 3.5184 - val_loss: 3.1338 - val_mae: 3.1338\n",
            "Epoch 118/150\n",
            "12/12 [==============================] - 0s 8ms/step - loss: 3.6170 - mae: 3.6170 - val_loss: 3.4727 - val_mae: 3.4727\n",
            "Epoch 119/150\n",
            "12/12 [==============================] - 0s 8ms/step - loss: 3.7643 - mae: 3.7643 - val_loss: 3.4373 - val_mae: 3.4373\n",
            "Epoch 120/150\n",
            "12/12 [==============================] - 0s 9ms/step - loss: 3.6669 - mae: 3.6669 - val_loss: 3.8506 - val_mae: 3.8506\n",
            "Epoch 121/150\n",
            "12/12 [==============================] - 0s 7ms/step - loss: 3.4681 - mae: 3.4681 - val_loss: 2.9660 - val_mae: 2.9660\n",
            "Epoch 122/150\n",
            "12/12 [==============================] - 0s 6ms/step - loss: 3.3227 - mae: 3.3227 - val_loss: 3.5530 - val_mae: 3.5530\n",
            "Epoch 123/150\n",
            "12/12 [==============================] - 0s 8ms/step - loss: 3.5787 - mae: 3.5787 - val_loss: 3.0275 - val_mae: 3.0275\n",
            "Epoch 124/150\n",
            "12/12 [==============================] - 0s 6ms/step - loss: 3.2602 - mae: 3.2602 - val_loss: 3.2125 - val_mae: 3.2125\n",
            "Epoch 125/150\n",
            "12/12 [==============================] - 0s 6ms/step - loss: 3.1996 - mae: 3.1996 - val_loss: 3.2069 - val_mae: 3.2069\n",
            "Epoch 126/150\n",
            "12/12 [==============================] - 0s 6ms/step - loss: 3.3560 - mae: 3.3560 - val_loss: 3.0786 - val_mae: 3.0786\n",
            "Epoch 127/150\n",
            "12/12 [==============================] - 0s 6ms/step - loss: 3.3288 - mae: 3.3288 - val_loss: 3.9680 - val_mae: 3.9680\n",
            "Epoch 128/150\n",
            "12/12 [==============================] - 0s 6ms/step - loss: 3.4529 - mae: 3.4529 - val_loss: 3.2898 - val_mae: 3.2898\n",
            "Epoch 129/150\n",
            "12/12 [==============================] - 0s 6ms/step - loss: 3.1881 - mae: 3.1881 - val_loss: 3.0599 - val_mae: 3.0599\n",
            "Epoch 130/150\n",
            "12/12 [==============================] - 0s 8ms/step - loss: 3.1520 - mae: 3.1520 - val_loss: 3.0464 - val_mae: 3.0464\n",
            "Epoch 131/150\n",
            "12/12 [==============================] - 0s 6ms/step - loss: 3.2235 - mae: 3.2235 - val_loss: 3.0099 - val_mae: 3.0099\n",
            "Epoch 132/150\n",
            "12/12 [==============================] - 0s 8ms/step - loss: 3.2173 - mae: 3.2173 - val_loss: 2.9332 - val_mae: 2.9332\n",
            "Epoch 133/150\n",
            "12/12 [==============================] - 0s 6ms/step - loss: 3.3590 - mae: 3.3590 - val_loss: 3.4131 - val_mae: 3.4131\n",
            "Epoch 134/150\n",
            "12/12 [==============================] - 0s 6ms/step - loss: 3.3759 - mae: 3.3759 - val_loss: 3.0786 - val_mae: 3.0786\n",
            "Epoch 135/150\n",
            "12/12 [==============================] - 0s 6ms/step - loss: 3.1800 - mae: 3.1800 - val_loss: 3.0976 - val_mae: 3.0976\n",
            "Epoch 136/150\n",
            "12/12 [==============================] - 0s 8ms/step - loss: 3.1912 - mae: 3.1912 - val_loss: 2.9673 - val_mae: 2.9673\n",
            "Epoch 137/150\n",
            "12/12 [==============================] - 0s 6ms/step - loss: 3.1735 - mae: 3.1735 - val_loss: 3.1526 - val_mae: 3.1526\n",
            "Epoch 138/150\n",
            "12/12 [==============================] - 0s 6ms/step - loss: 3.3213 - mae: 3.3213 - val_loss: 3.1484 - val_mae: 3.1484\n",
            "Epoch 139/150\n",
            "12/12 [==============================] - 0s 6ms/step - loss: 3.2744 - mae: 3.2744 - val_loss: 2.9948 - val_mae: 2.9948\n",
            "Epoch 140/150\n",
            "12/12 [==============================] - 0s 6ms/step - loss: 3.3069 - mae: 3.3069 - val_loss: 3.5001 - val_mae: 3.5001\n",
            "Epoch 141/150\n",
            "12/12 [==============================] - 0s 6ms/step - loss: 3.3923 - mae: 3.3923 - val_loss: 3.1242 - val_mae: 3.1242\n",
            "Epoch 142/150\n",
            "12/12 [==============================] - 0s 7ms/step - loss: 3.2827 - mae: 3.2827 - val_loss: 3.8678 - val_mae: 3.8678\n",
            "Epoch 143/150\n",
            "12/12 [==============================] - 0s 6ms/step - loss: 3.2941 - mae: 3.2941 - val_loss: 3.4725 - val_mae: 3.4725\n",
            "Epoch 144/150\n",
            "12/12 [==============================] - 0s 6ms/step - loss: 3.6839 - mae: 3.6839 - val_loss: 4.3006 - val_mae: 4.3006\n",
            "Epoch 145/150\n",
            "12/12 [==============================] - 0s 9ms/step - loss: 3.8322 - mae: 3.8322 - val_loss: 4.1218 - val_mae: 4.1218\n",
            "Epoch 146/150\n",
            "12/12 [==============================] - 0s 9ms/step - loss: 3.4763 - mae: 3.4763 - val_loss: 3.5718 - val_mae: 3.5718\n",
            "Epoch 147/150\n",
            "12/12 [==============================] - 0s 6ms/step - loss: 3.2507 - mae: 3.2507 - val_loss: 3.2630 - val_mae: 3.2630\n",
            "Epoch 148/150\n",
            "12/12 [==============================] - 0s 6ms/step - loss: 3.3276 - mae: 3.3276 - val_loss: 3.3596 - val_mae: 3.3596\n",
            "Epoch 149/150\n",
            "12/12 [==============================] - 0s 6ms/step - loss: 3.3114 - mae: 3.3114 - val_loss: 2.9156 - val_mae: 2.9156\n",
            "Epoch 150/150\n",
            "12/12 [==============================] - 0s 6ms/step - loss: 3.3185 - mae: 3.3185 - val_loss: 2.9545 - val_mae: 2.9545\n"
          ]
        }
      ]
    },
    {
      "cell_type": "code",
      "source": [
        "model.summary()"
      ],
      "metadata": {
        "colab": {
          "base_uri": "https://localhost:8080/"
        },
        "id": "chay2RGNFX15",
        "outputId": "c94aac79-d205-45bc-8dbf-3428fa1a1b1c"
      },
      "execution_count": null,
      "outputs": [
        {
          "output_type": "stream",
          "name": "stdout",
          "text": [
            "Model: \"sequential_3\"\n",
            "_________________________________________________________________\n",
            " Layer (type)                Output Shape              Param #   \n",
            "=================================================================\n",
            " dense_11 (Dense)            (None, 10)                140       \n",
            "                                                                 \n",
            " dense_12 (Dense)            (None, 10)                110       \n",
            "                                                                 \n",
            " dense_13 (Dense)            (None, 1)                 11        \n",
            "                                                                 \n",
            "=================================================================\n",
            "Total params: 261\n",
            "Trainable params: 261\n",
            "Non-trainable params: 0\n",
            "_________________________________________________________________\n"
          ]
        }
      ]
    },
    {
      "cell_type": "code",
      "source": [
        "#visualisasi model\n",
        "model_viz = tf.keras.utils.plot_model(model,\n",
        "                          to_file='model.png',\n",
        "                          show_shapes=True,\n",
        "                          show_layer_names=True,\n",
        "                          rankdir='TB',\n",
        "                          expand_nested=True,\n",
        "                          dpi=55)\n",
        "model_viz"
      ],
      "metadata": {
        "colab": {
          "base_uri": "https://localhost:8080/",
          "height": 249
        },
        "id": "ONT_GWQOGhnZ",
        "outputId": "74a87cad-a87b-44e1-a8cd-6ae3e0d39138"
      },
      "execution_count": null,
      "outputs": [
        {
          "output_type": "execute_result",
          "data": {
            "text/plain": [
              "<IPython.core.display.Image object>"
            ],
            "image/png": "[encoded data removed]"
          },
          "metadata": {},
          "execution_count": 43
        }
      ]
    },
    {
      "cell_type": "code",
      "source": [
        "pd.DataFrame(history_1.history).plot();"
      ],
      "metadata": {
        "colab": {
          "base_uri": "https://localhost:8080/",
          "height": 265
        },
        "id": "En8HMJohGxs5",
        "outputId": "978bfa79-8d86-4a92-c72d-f91c8d94c48b"
      },
      "execution_count": null,
      "outputs": [
        {
          "output_type": "display_data",
          "data": {
            "text/plain": [
              "<Figure size 432x288 with 1 Axes>"
            ],
            "image/png": "[encoded data removed]"
          },
          "metadata": {
            "needs_background": "light"
          }
        }
      ]
    },
    {
      "cell_type": "code",
      "source": [
        "#evaluasi model \n",
        "model.evaluate(X_test,y_test)"
      ],
      "metadata": {
        "colab": {
          "base_uri": "https://localhost:8080/"
        },
        "id": "9-9RAT3yG12m",
        "outputId": "38dfd129-114c-4368-ef77-d12686038b1b"
      },
      "execution_count": null,
      "outputs": [
        {
          "output_type": "stream",
          "name": "stdout",
          "text": [
            "4/4 [==============================] - 0s 4ms/step - loss: 4.1056 - mae: 4.1056\n"
          ]
        },
        {
          "output_type": "execute_result",
          "data": {
            "text/plain": [
              "[4.105618476867676, 4.105618476867676]"
            ]
          },
          "metadata": {},
          "execution_count": 45
        }
      ]
    },
    {
      "cell_type": "code",
      "source": [
        "y_pred = model_1.predict(X_test)"
      ],
      "metadata": {
        "id": "YgQaMgZgG43e"
      },
      "execution_count": null,
      "outputs": []
    },
    {
      "cell_type": "code",
      "source": [
        "import matplotlib.pyplot as plt"
      ],
      "metadata": {
        "id": "KKHfPWSGG-NE"
      },
      "execution_count": null,
      "outputs": []
    },
    {
      "cell_type": "code",
      "source": [
        "plt.figure()\n",
        "plt.scatter(range(len(y_test)),y_test,color='red')\n",
        "plt.scatter(range(len(y_pred)),y_pred,color='blue');"
      ],
      "metadata": {
        "colab": {
          "base_uri": "https://localhost:8080/",
          "height": 265
        },
        "id": "uoUtAtGzG_Ya",
        "outputId": "0e6f3344-c55b-4f75-cb39-97ca52bf3689"
      },
      "execution_count": null,
      "outputs": [
        {
          "output_type": "display_data",
          "data": {
            "text/plain": [
              "<Figure size 432x288 with 1 Axes>"
            ],
            "image/png": "[encoded data removed]"
          },
          "metadata": {
            "needs_background": "light"
          }
        }
      ]
    }
  ]
}